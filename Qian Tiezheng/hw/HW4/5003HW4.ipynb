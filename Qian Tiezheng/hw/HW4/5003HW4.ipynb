{
 "cells": [
  {
   "cell_type": "markdown",
   "metadata": {},
   "source": [
    "$E = U = kx^2/2$\n",
    "\n",
    "$exp(\\frac{-(E'-E)}{KBT}) = exp(-\\frac{(x'^2-x^2)}{2})$\n"
   ]
  },
  {
   "cell_type": "code",
   "execution_count": 5,
   "metadata": {},
   "outputs": [
    {
     "name": "stdout",
     "output_type": "stream",
     "text": [
      "E(x)= -0.0006237955951524148\n",
      "E(x^2)= 0.9993062693510789\n",
      "E(x^3)= -0.012969195066724164\n",
      "E(x^4)= 3.021054660576612\n"
     ]
    },
    {
     "data": {
      "image/png": "[encoded data removed]",
      "text/plain": [
       "<Figure size 432x288 with 1 Axes>"
      ]
     },
     "metadata": {
      "needs_background": "light"
     },
     "output_type": "display_data"
    }
   ],
   "source": [
    "import numpy as np\n",
    "import matplotlib.pyplot as plt\n",
    "import random\n",
    "import math\n",
    "from scipy.optimize import curve_fit\n",
    "from scipy.stats import norm\n",
    "\n",
    "\n",
    "def PDF(x2,x1):\n",
    "    return math.exp(-(x2**2-x1**2)/2)\n",
    "\n",
    "seq = [3]\n",
    "seq_2 = [9]\n",
    "seq_3 = [27]\n",
    "seq_4 = [81]\n",
    "time = 200000\n",
    "for i in range(time):\n",
    "    nex = random.uniform(seq[-1]-4,seq[-1]+4)\n",
    "    if abs(nex)-abs(seq[-1])<=0:\n",
    "        seq.append(nex)\n",
    "        seq_2.append(nex**2)\n",
    "        seq_3.append(nex**3)\n",
    "        seq_4.append(nex**4)\n",
    "    else:\n",
    "        r = random.random()\n",
    "        if r<PDF(nex,seq[-1]):\n",
    "            seq.append(nex)\n",
    "            seq_2.append(nex**2)\n",
    "            seq_3.append(nex**3)\n",
    "            seq_4.append(nex**4)\n",
    "        else:\n",
    "            seq.append(seq[-1])\n",
    "            seq_2.append(seq[-1]**2)\n",
    "            seq_3.append(seq[-1]**3)\n",
    "            seq_4.append(seq[-1]**4)\n",
    "        \n",
    "\n",
    "mean = sum(seq)/(time+1)\n",
    "mean_2 = sum(seq_2)/(time+1)\n",
    "\n",
    "mean_3 = sum(seq_3)/(time+1)\n",
    "\n",
    "\n",
    "mean_4 = sum(seq_4)/(time+1)\n",
    "\n",
    "\n",
    "print(\"E(x)=\",mean)  \n",
    "print(\"E(x^2)=\",mean_2)\n",
    "print(\"E(x^3)=\",mean_3)\n",
    "print(\"E(x^4)=\",mean_4)\n",
    "\n",
    "\n",
    "\n",
    "(mu,sigma) = norm.fit(seq)\n",
    "\n",
    "n,bins,apatches=plt.hist(seq,50,density = True,color = 'b',label = 'simulation')\n",
    "x = norm.pdf(bins,0,1)\n",
    "plt.plot(bins,x,lw = 3, c='r',label ='PDF')\n",
    "plt.legend()\n",
    "plt.title(f'simulation result:\\nx~N({round(mu,2)},{round(sigma**2,2)})')\n",
    "plt.show()"
   ]
  },
  {
   "cell_type": "code",
   "execution_count": null,
   "metadata": {},
   "outputs": [],
   "source": []
  }
 ],
 "metadata": {
  "kernelspec": {
   "display_name": "Python 3",
   "language": "python",
   "name": "python3"
  },
  "language_info": {
   "codemirror_mode": {
    "name": "ipython",
    "version": 3
   },
   "file_extension": ".py",
   "mimetype": "text/x-python",
   "name": "python",
   "nbconvert_exporter": "python",
   "pygments_lexer": "ipython3",
   "version": "3.8.8"
  }
 },
 "nbformat": 4,
 "nbformat_minor": 2
}
