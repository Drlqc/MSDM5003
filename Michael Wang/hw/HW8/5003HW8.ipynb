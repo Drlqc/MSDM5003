{
 "cells": [
  {
   "cell_type": "markdown",
   "id": "68de31e3",
   "metadata": {},
   "source": [
    "# 5003HW8\n",
    "#### Name: Li,Qichao\n",
    "#### ID:20787264"
   ]
  },
  {
   "cell_type": "markdown",
   "id": "37202618",
   "metadata": {},
   "source": [
    "## (a)Cleaning the data"
   ]
  },
  {
   "cell_type": "code",
   "execution_count": 1,
   "id": "a664e8a9",
   "metadata": {},
   "outputs": [],
   "source": [
    "from sklearn.linear_model import LinearRegression\n",
    "import numpy as np\n",
    "import pandas as pd\n",
    "import matplotlib.pyplot as plt"
   ]
  },
  {
   "cell_type": "code",
   "execution_count": 2,
   "id": "fd4b30d8",
   "metadata": {},
   "outputs": [],
   "source": [
    "cols = [\"CRIM\",\"ZN\",\"INDUS\",\"CHAS\",\"NOX\",\"RM\",\"AGE\",\"DIS\",\"RAD\",\"TAX\",\"PTRATIO\",\"B\",\"LSTAT\",\"MEDV\"]\n",
    "Boston = pd.read_csv('boston_cleaning.txt',sep = '\\s+',names = cols[:11])\n",
    "left = Boston[Boston.index%2 == 0]\n",
    "right = Boston[Boston.index%2 == 1]\n",
    "left.reset_index(drop = True,inplace = True)\n",
    "right = right.dropna(how = 'all',axis =1)\n",
    "right.rename(columns = {\"CRIM\":cols[-3],\"ZN\":cols[-2],\"INDUS\":cols[-1]},inplace = True)\n",
    "right.reset_index(drop = True,inplace = True)\n",
    "Boston = pd.concat([left,right],axis = 1)"
   ]
  },
  {
   "cell_type": "markdown",
   "id": "19e75aec",
   "metadata": {},
   "source": [
    "## A. Simple linear regression"
   ]
  },
  {
   "cell_type": "markdown",
   "id": "d8d95f82",
   "metadata": {},
   "source": [
    "#### (1) Calculate the regression of MEDV using LSTAT as the input"
   ]
  },
  {
   "cell_type": "code",
   "execution_count": 3,
   "id": "fe1206ad",
   "metadata": {},
   "outputs": [],
   "source": [
    "import scipy.stats as st"
   ]
  },
  {
   "cell_type": "code",
   "execution_count": 4,
   "id": "82c05976",
   "metadata": {},
   "outputs": [],
   "source": [
    "MEDV = np.array(Boston.MEDV)\n",
    "LSTAT = np.array(Boston.LSTAT).reshape(-1,1)"
   ]
  },
  {
   "cell_type": "code",
   "execution_count": 5,
   "id": "27cf4206",
   "metadata": {},
   "outputs": [
    {
     "name": "stdout",
     "output_type": "stream",
     "text": [
      "beta0 = 34.55384087938311 beta1 = -0.9500493537579909\n"
     ]
    }
   ],
   "source": [
    "reg = LinearRegression().fit(LSTAT,MEDV)\n",
    "inter = reg.intercept_\n",
    "beta = reg.coef_[0]\n",
    "predict = reg.predict(LSTAT)\n",
    "print(\"beta0 =\",inter,\"beta1 =\",beta)"
   ]
  },
  {
   "cell_type": "markdown",
   "id": "031c6305",
   "metadata": {},
   "source": [
    "#### (2) Plot the regression line together with the scattered data points"
   ]
  },
  {
   "cell_type": "code",
   "execution_count": 6,
   "id": "73e607b9",
   "metadata": {},
   "outputs": [
    {
     "data": {
      "image/png": "[encoded data removed]",
      "text/plain": [
       "<Figure size 432x288 with 1 Axes>"
      ]
     },
     "metadata": {
      "needs_background": "light"
     },
     "output_type": "display_data"
    }
   ],
   "source": [
    "plt.scatter(LSTAT,MEDV,label = 'real')\n",
    "plt.plot(LSTAT,predict,color = 'r',label = \"regression\")\n",
    "plt.xlabel(\"LSTAT\")\n",
    "plt.ylabel(\"MEDV\")\n",
    "plt.legend()\n",
    "plt.show()"
   ]
  },
  {
   "cell_type": "markdown",
   "id": "39a6c7b7",
   "metadata": {},
   "source": [
    "#### (3) Calculate the 95% confidence interval of the coefficients"
   ]
  },
  {
   "cell_type": "code",
   "execution_count": 7,
   "id": "23143e0c",
   "metadata": {},
   "outputs": [],
   "source": [
    "n = len(MEDV)\n",
    "k = 1\n",
    "sse = sum((MEDV-predict)**2)\n",
    "sst = sum((MEDV-np.mean(MEDV))**2)\n",
    "ssr = sum((predict-np.mean(MEDV))**2)\n",
    "t_score = st.t.isf(0.05/2,df = n-k-1)\n",
    "Se = np.sqrt(sse/(n-k-1))\n",
    "lxx = np.sqrt(np.sum((LSTAT-np.mean(LSTAT))**2))"
   ]
  },
  {
   "cell_type": "code",
   "execution_count": 8,
   "id": "4fffcbba",
   "metadata": {},
   "outputs": [
    {
     "name": "stdout",
     "output_type": "stream",
     "text": [
      "95% confidence interval of beta0:[33.44845704042267,35.65922471834355]\n",
      "95% confidence interval of beta1:[-1.0261481995207606,-0.8739505079952211]\n"
     ]
    }
   ],
   "source": [
    "beta1_lower_cutoff = beta-t_score*Se/lxx\n",
    "beta1_upper_cutoff = beta+t_score*Se/lxx\n",
    "beta0_lower_cutoff = inter-t_score*Se*np.sqrt((np.mean(LSTAT)**2)/(lxx**2)+1/n)\n",
    "beta0_upper_cutoff = inter+t_score*Se*np.sqrt((np.mean(LSTAT)**2)/(lxx**2)+1/n)\n",
    "print(f\"95% confidence interval of beta0:[{beta0_lower_cutoff},{beta0_upper_cutoff}]\")\n",
    "print(f\"95% confidence interval of beta1:[{beta1_lower_cutoff},{beta1_upper_cutoff}]\")"
   ]
  },
  {
   "cell_type": "markdown",
   "id": "53f68cda",
   "metadata": {},
   "source": [
    "#### (4) If LSTAT = 4, 10, 14, what are the 95% confidence intervals of expected MEDV?"
   ]
  },
  {
   "cell_type": "code",
   "execution_count": 9,
   "id": "d91a9283",
   "metadata": {},
   "outputs": [
    {
     "name": "stdout",
     "output_type": "stream",
     "text": [
      "If LSTAT = 4, the 95% confidence intervals of expected MEDV is [30.449248081300066,31.058038847402226]\n",
      "If LSTAT = 10, the 95% confidence intervals of expected MEDV is [24.292358884175503,25.814335799430896]\n",
      "If LSTAT = 14, the 95% confidence intervals of expected MEDV is [20.18776608609246,22.318533767450013]\n"
     ]
    }
   ],
   "source": [
    "for x in [4,10,14]:\n",
    "    lower_cutoff = inter+x*beta-t_score*Se*x/lxx\n",
    "    upper_cutoff = inter+x*beta+t_score*Se*x/lxx\n",
    "    print(f\"If LSTAT = {x}, the 95% confidence intervals of expected MEDV is [{lower_cutoff},{upper_cutoff}]\")"
   ]
  },
  {
   "cell_type": "markdown",
   "id": "a6c2b8b6",
   "metadata": {},
   "source": [
    "#### (5) If LSTAT = 4, 10, 14, what are the 95% prediction intervals of MEDV?"
   ]
  },
  {
   "cell_type": "code",
   "execution_count": 10,
   "id": "12c8c1f2",
   "metadata": {},
   "outputs": [
    {
     "name": "stdout",
     "output_type": "stream",
     "text": [
      "If LSTAT = 4, the 95% prediction intervals of MEDV is [18.53785777717688,42.96942915152541]\n",
      "If LSTAT = 10, the 95% prediction intervals of MEDV is [12.817667269228918,37.28902741437748]\n",
      "If LSTAT = 14, the 95% prediction intervals of MEDV is [8.994772948813337,33.51152690472914]\n"
     ]
    }
   ],
   "source": [
    "for x in [4,10,14]:\n",
    "    lower_cutoff = inter+x*beta-t_score*Se*np.sqrt(1+x/lxx*x/lxx)\n",
    "    upper_cutoff = inter+x*beta+t_score*Se*np.sqrt(1+x/lxx*x/lxx)\n",
    "    print(f\"If LSTAT = {x}, the 95% prediction intervals of MEDV is [{lower_cutoff},{upper_cutoff}]\")"
   ]
  },
  {
   "cell_type": "markdown",
   "id": "99335973",
   "metadata": {},
   "source": [
    "## B. Multiple linear regression"
   ]
  },
  {
   "cell_type": "markdown",
   "id": "679baec9",
   "metadata": {},
   "source": [
    "#### (1) Calculate the regression of MEDV using LSTAT and AGE as inputs"
   ]
  },
  {
   "cell_type": "code",
   "execution_count": 11,
   "id": "53540f7e",
   "metadata": {},
   "outputs": [],
   "source": [
    "AGE = np.array(Boston.AGE).reshape(-1,1)"
   ]
  },
  {
   "cell_type": "code",
   "execution_count": 12,
   "id": "55b43c4d",
   "metadata": {},
   "outputs": [
    {
     "name": "stdout",
     "output_type": "stream",
     "text": [
      "beta0 = 33.2227605317929 beta1 = -1.032068564182601 beta2 = 0.03454433857164606\n"
     ]
    }
   ],
   "source": [
    "X = Boston[['LSTAT','AGE']]\n",
    "reg = LinearRegression().fit(X,MEDV)\n",
    "inter = reg.intercept_\n",
    "beta1 = reg.coef_[0]\n",
    "beta2 = reg.coef_[1]\n",
    "predict = reg.predict(X)\n",
    "print(\"beta0 =\",inter,\"beta1 =\",beta1,\"beta2 =\",beta2)"
   ]
  },
  {
   "cell_type": "markdown",
   "id": "665aa5bf",
   "metadata": {},
   "source": [
    "#### (1) Calculate $R^2$"
   ]
  },
  {
   "cell_type": "code",
   "execution_count": 13,
   "id": "c1898f4d",
   "metadata": {},
   "outputs": [
    {
     "name": "stdout",
     "output_type": "stream",
     "text": [
      "R-squared = 0.5512689379420992\n"
     ]
    }
   ],
   "source": [
    "sst = sum((MEDV-np.mean(MEDV))**2)\n",
    "ssr = sum((predict-np.mean(MEDV))**2)\n",
    "R_squared = ssr/sst\n",
    "print(\"R-squared =\",R_squared)"
   ]
  },
  {
   "cell_type": "code",
   "execution_count": null,
   "id": "887fc787",
   "metadata": {},
   "outputs": [],
   "source": []
  }
 ],
 "metadata": {
  "kernelspec": {
   "display_name": "Python 3",
   "language": "python",
   "name": "python3"
  },
  "language_info": {
   "codemirror_mode": {
    "name": "ipython",
    "version": 3
   },
   "file_extension": ".py",
   "mimetype": "text/x-python",
   "name": "python",
   "nbconvert_exporter": "python",
   "pygments_lexer": "ipython3",
   "version": "3.8.8"
  }
 },
 "nbformat": 4,
 "nbformat_minor": 5
}
